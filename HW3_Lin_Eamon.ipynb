{
 "cells": [
  {
   "cell_type": "code",
   "execution_count": 21,
   "id": "35250bce",
   "metadata": {},
   "outputs": [],
   "source": [
    "marks = {'Andy':88, 'Amy':66, 'James':90, 'Jules':55, 'Arthur':77}"
   ]
  },
  {
   "cell_type": "code",
   "execution_count": 40,
   "id": "1778ca86",
   "metadata": {
    "scrolled": false
   },
   "outputs": [
    {
     "data": {
      "text/plain": [
       "77"
      ]
     },
     "execution_count": 40,
     "metadata": {},
     "output_type": "execute_result"
    }
   ],
   "source": [
    "#1-1\n",
    "marks = {'Andy':88, 'Amy':66, 'James':90, 'Jules':55, 'Arthur':77}\n",
    "\n",
    "def grade(name):\n",
    "    if name in marks:\n",
    "        return marks[name]\n",
    "    else:\n",
    "        print('you cannot find this student\\'s name')\n",
    "        \n",
    "grade('Arthur')"
   ]
  },
  {
   "cell_type": "code",
   "execution_count": 41,
   "id": "68d1a489",
   "metadata": {},
   "outputs": [
    {
     "name": "stdout",
     "output_type": "stream",
     "text": [
      "you cannot find this student's name\n"
     ]
    }
   ],
   "source": [
    "#1-1\n",
    "marks = {'Andy':88, 'Amy':66, 'James':90, 'Jules':55, 'Arthur':77}\n",
    "\n",
    "def grade(name):\n",
    "    if name in marks:\n",
    "        return marks[name]\n",
    "    else:\n",
    "        print('you cannot find this student\\'s name')\n",
    "        \n",
    "grade('Kim')"
   ]
  },
  {
   "cell_type": "code",
   "execution_count": 47,
   "id": "7e619251",
   "metadata": {},
   "outputs": [
    {
     "data": {
      "text/plain": [
       "75.2"
      ]
     },
     "execution_count": 47,
     "metadata": {},
     "output_type": "execute_result"
    }
   ],
   "source": [
    "#1-2\n",
    "marks = {'Andy':88, 'Amy':66, 'James':90, 'Jules':55, 'Arthur':77}\n",
    "\n",
    "def avg_grade():\n",
    "    sum = 0\n",
    "    for k in marks.values():\n",
    "        sum += k\n",
    "    average_grade = sum / len(marks.values())\n",
    "    return average_grade\n",
    "\n",
    "avg_grade()"
   ]
  },
  {
   "cell_type": "code",
   "execution_count": 62,
   "id": "a4882641",
   "metadata": {},
   "outputs": [
    {
     "name": "stdout",
     "output_type": "stream",
     "text": [
      "3 9\n",
      "n is greater than the num value\n"
     ]
    }
   ],
   "source": [
    "#2 when n does not change by iteration, we use a break command; \n",
    "# I assign n with 3 and 9\n",
    "\n",
    "def while_loop(n, num):\n",
    "    while n < num:\n",
    "        print(n,n**2)\n",
    "        break\n",
    "    if n >= num:\n",
    "        print(\"n is greater than the num value\")\n",
    "        \n",
    "while_loop(3,8)\n",
    "while_loop(9,8)"
   ]
  },
  {
   "cell_type": "code",
   "execution_count": 79,
   "id": "06a991cc",
   "metadata": {},
   "outputs": [
    {
     "name": "stdout",
     "output_type": "stream",
     "text": [
      "10\n"
     ]
    }
   ],
   "source": [
    "#3\n",
    "\n",
    "def while_add_all(num):\n",
    "    sum = 0\n",
    "    n = 0\n",
    "    while n <= num:\n",
    "        sum += n\n",
    "        n += 1\n",
    "    print(sum)\n",
    "    \n",
    "while_add_all(4)\n",
    "# 1 + 2 + 3 + 4 = 10"
   ]
  },
  {
   "cell_type": "code",
   "execution_count": 81,
   "id": "f8a7d8c1",
   "metadata": {},
   "outputs": [
    {
     "name": "stdout",
     "output_type": "stream",
     "text": [
      "1\n",
      "3\n",
      "6\n",
      "10\n",
      "15\n",
      "21\n"
     ]
    }
   ],
   "source": [
    "#4\n",
    "\n",
    "def for_add_all(num):\n",
    "    sum = 0\n",
    "    n = 0\n",
    "    for n in range (1, num+1):\n",
    "        sum += n\n",
    "        print(sum)\n",
    "        \n",
    "for_add_all(6)"
   ]
  },
  {
   "cell_type": "code",
   "execution_count": null,
   "id": "a3b88145",
   "metadata": {},
   "outputs": [],
   "source": []
  },
  {
   "cell_type": "code",
   "execution_count": 111,
   "id": "517043f6",
   "metadata": {},
   "outputs": [
    {
     "name": "stdout",
     "output_type": "stream",
     "text": [
      "[1, 2, 3, 4, 5, 6, 7, 8, 9, 10, 11, 12, 13, 14, 15, 16, 17, 18, 19, 20, 21, 22, 23, 24, 25, 26, 27, 28, 29, 30, 31, 32, 33, 34, 35, 36, 37, 38, 39, 40, 41, 42, 43, 44, 45, 46, 47, 48, 49, 50, 51, 52, 53, 54, 55, 56, 57, 58, 59, 60, 61, 62, 63, 64, 65, 66, 67, 68, 69, 70, 71, 72, 73, 74, 75, 76, 77, 78, 79, 80, 81, 82, 83, 84, 85, 86, 87, 88, 89, 90, 91, 92, 93, 94, 95, 96, 97, 98, 99, 100]\n"
     ]
    },
    {
     "data": {
      "text/plain": [
       "(50.5, 5050, 29.011491975882016)"
      ]
     },
     "execution_count": 111,
     "metadata": {},
     "output_type": "execute_result"
    }
   ],
   "source": [
    "#5\n",
    "import statistics\n",
    "\n",
    "def cal_list():\n",
    "    list = []\n",
    "    for n in range(1,101):\n",
    "        list.append(n)\n",
    "    print(list)\n",
    "    return (statistics.mean(list),sum(list),statistics.stdev(list))\n",
    "\n",
    "cal_list()\n",
    "# mean, sum, and standard deviation"
   ]
  },
  {
   "cell_type": "code",
   "execution_count": 122,
   "id": "3fbeb26f",
   "metadata": {},
   "outputs": [
    {
     "name": "stdout",
     "output_type": "stream",
     "text": [
      "1\n"
     ]
    }
   ],
   "source": [
    "# 6\n",
    "\n",
    "def minimal(a, b, c, d):\n",
    "    list = [a,b,c,d]\n",
    "    s = a\n",
    "    for k in list:\n",
    "        if s > k:\n",
    "            s = k\n",
    "        else:\n",
    "            continue\n",
    "    print(s)\n",
    "\n",
    "minimal(2,3,1,4)\n",
    "# the minimal will return 1"
   ]
  },
  {
   "cell_type": "code",
   "execution_count": 125,
   "id": "e098ad9e",
   "metadata": {},
   "outputs": [
    {
     "name": "stdout",
     "output_type": "stream",
     "text": [
      "Iloveyou\n"
     ]
    }
   ],
   "source": [
    "# 7\n",
    "\n",
    "def string_conc(x,y,z):\n",
    "    string = x + y + z\n",
    "    print(string)\n",
    "    \n",
    "string_conc(\"I\",\"love\",\"you\")"
   ]
  },
  {
   "cell_type": "code",
   "execution_count": null,
   "id": "f87ccbc5",
   "metadata": {},
   "outputs": [],
   "source": []
  }
 ],
 "metadata": {
  "kernelspec": {
   "display_name": "Python 3 (ipykernel)",
   "language": "python",
   "name": "python3"
  },
  "language_info": {
   "codemirror_mode": {
    "name": "ipython",
    "version": 3
   },
   "file_extension": ".py",
   "mimetype": "text/x-python",
   "name": "python",
   "nbconvert_exporter": "python",
   "pygments_lexer": "ipython3",
   "version": "3.9.6"
  }
 },
 "nbformat": 4,
 "nbformat_minor": 5
}
