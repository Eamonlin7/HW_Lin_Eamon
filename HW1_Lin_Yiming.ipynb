{
 "cells": [
  {
   "cell_type": "code",
   "execution_count": null,
   "id": "4284a92c",
   "metadata": {},
   "outputs": [],
   "source": [
    "x = list(range(30,65,5))\n",
    "print(x)"
   ]
  },
  {
   "cell_type": "code",
   "execution_count": 4,
   "id": "3911cbc3",
   "metadata": {},
   "outputs": [
    {
     "name": "stdout",
     "output_type": "stream",
     "text": [
      "[60, 55, 50, 45, 40, 35, 30]\n"
     ]
    }
   ],
   "source": [
    "y = list(range(60, 25, -5))\n",
    "print(y)"
   ]
  },
  {
   "cell_type": "code",
   "execution_count": 6,
   "id": "bbb249ea",
   "metadata": {},
   "outputs": [
    {
     "name": "stdout",
     "output_type": "stream",
     "text": [
      "[65, 60, 55, 50, 45, 40, 35, 30]\n"
     ]
    }
   ],
   "source": [
    "z = [65]\n",
    "insert_at_beginning = z + y\n",
    "print(insert_at_beginning)"
   ]
  },
  {
   "cell_type": "code",
   "execution_count": 31,
   "id": "417ed6ec",
   "metadata": {},
   "outputs": [
    {
     "name": "stdout",
     "output_type": "stream",
     "text": [
      "[0, 1, 2, 3, 4, 5, 6, 7, 8, 9, 10, 11, 12, 13, 14, 15, 16, 17, 18, 19, 20]\n"
     ]
    }
   ],
   "source": [
    "empty_list = []\n",
    "empty_list = list(range(0,21))\n",
    "print(empty_list)"
   ]
  },
  {
   "cell_type": "code",
   "execution_count": 32,
   "id": "9a229d93",
   "metadata": {},
   "outputs": [
    {
     "name": "stdout",
     "output_type": "stream",
     "text": [
      "[1, 2, 3, 4, 5, 6, 7, 8, 9, 10, 11, 12, 13, 14, 15, 16, 17, 18, 19, 20]\n"
     ]
    }
   ],
   "source": [
    "empty_list.remove(0)\n",
    "print(empty_list)"
   ]
  },
  {
   "cell_type": "code",
   "execution_count": 33,
   "id": "a81bc7bd",
   "metadata": {},
   "outputs": [
    {
     "data": {
      "text/plain": [
       "20"
      ]
     },
     "execution_count": 33,
     "metadata": {},
     "output_type": "execute_result"
    }
   ],
   "source": [
    "len(empty_list)"
   ]
  },
  {
   "cell_type": "code",
   "execution_count": 34,
   "id": "38e5044d",
   "metadata": {},
   "outputs": [
    {
     "data": {
      "text/plain": [
       "20"
      ]
     },
     "execution_count": 34,
     "metadata": {},
     "output_type": "execute_result"
    }
   ],
   "source": [
    "max(empty_list)"
   ]
  },
  {
   "cell_type": "code",
   "execution_count": 35,
   "id": "6e540817",
   "metadata": {},
   "outputs": [
    {
     "data": {
      "text/plain": [
       "1"
      ]
     },
     "execution_count": 35,
     "metadata": {},
     "output_type": "execute_result"
    }
   ],
   "source": [
    "min(empty_list)"
   ]
  },
  {
   "cell_type": "code",
   "execution_count": 41,
   "id": "071e67c5",
   "metadata": {},
   "outputs": [
    {
     "name": "stdout",
     "output_type": "stream",
     "text": [
      "210\n"
     ]
    }
   ],
   "source": [
    "sum = 0\n",
    "for k in empty_list:\n",
    "    sum += k\n",
    "    \n",
    "print(sum)"
   ]
  },
  {
   "cell_type": "code",
   "execution_count": 59,
   "id": "30758d95",
   "metadata": {},
   "outputs": [
    {
     "name": "stdout",
     "output_type": "stream",
     "text": [
      "dict_keys(['sunny', 'rainy', 'cloudy'])\n",
      "dict_values(['play', 'watch TV', 'walk'])\n"
     ]
    }
   ],
   "source": [
    "activity = {\"sunny\":\"play\", \"rainy\":\"watch TV\", \"cloudy\":\"walk\"}\n",
    "print(activity.keys())\n",
    "print(activity.values())"
   ]
  },
  {
   "cell_type": "code",
   "execution_count": 60,
   "id": "ce9ceccd",
   "metadata": {},
   "outputs": [
    {
     "name": "stdout",
     "output_type": "stream",
     "text": [
      "sunny rainy cloudy play watch TV walk "
     ]
    }
   ],
   "source": [
    "for m in activity.keys():\n",
    "    print(m, end = ' ')\n",
    "for n in activity.values():\n",
    "    print(n, end = ' ')"
   ]
  },
  {
   "cell_type": "code",
   "execution_count": 61,
   "id": "f669fb48",
   "metadata": {},
   "outputs": [
    {
     "name": "stdout",
     "output_type": "stream",
     "text": [
      "When  sunny let us  play\n",
      "When  rainy let us  watch TV\n",
      "When  cloudy let us  walk\n"
     ]
    }
   ],
   "source": [
    "for weather, thing in activity.items():\n",
    "    print(f'When  {weather} let us  {thing}')"
   ]
  },
  {
   "cell_type": "code",
   "execution_count": 62,
   "id": "df4a9b20",
   "metadata": {},
   "outputs": [
    {
     "name": "stdout",
     "output_type": "stream",
     "text": [
      "{'sunny': 'play', 'rainy': 'watch TV', 'cloudy': 'walk', 'snowy': 'ski'}\n"
     ]
    }
   ],
   "source": [
    "activity ['snowy']='ski'\n",
    "\n",
    "print(activity)"
   ]
  },
  {
   "cell_type": "code",
   "execution_count": null,
   "id": "6c4e6826",
   "metadata": {},
   "outputs": [],
   "source": []
  }
 ],
 "metadata": {
  "kernelspec": {
   "display_name": "Python 3 (ipykernel)",
   "language": "python",
   "name": "python3"
  },
  "language_info": {
   "codemirror_mode": {
    "name": "ipython",
    "version": 3
   },
   "file_extension": ".py",
   "mimetype": "text/x-python",
   "name": "python",
   "nbconvert_exporter": "python",
   "pygments_lexer": "ipython3",
   "version": "3.9.6"
  }
 },
 "nbformat": 4,
 "nbformat_minor": 5
}
