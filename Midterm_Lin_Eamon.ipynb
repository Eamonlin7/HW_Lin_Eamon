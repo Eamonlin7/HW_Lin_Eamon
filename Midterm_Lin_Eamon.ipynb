{
 "cells": [
  {
   "cell_type": "code",
   "execution_count": 150,
   "id": "61645bb6",
   "metadata": {
    "scrolled": true
   },
   "outputs": [
    {
     "name": "stdout",
     "output_type": "stream",
     "text": [
      "2,4,6,8,4,5,2,1,9,0,4,6,7,4,3,2,1,9,10,3,7,9,6,0,1,3,5,6,7,8,9,10,2,3,6,8,9,10,6,7,4,3,2,1,9,10,3,7,9,6,0,1,3,5,6,7,8,9,10,2,3,6,8,9,10,2,4,6,8,4,5,2,1,9,0,4,6,7,4,3,2,1,9,10,3,7,9,6,4,5,2,1,9,0,4,6,7,4,3,2,1,9,10,3,7,9,6,0,1,3,5,6,7,8,9,10,2,3,6,8,9,10,6,7,4,3,6,8,4,5,2,10,3,7,9,6,0,1,3,5,6,7,8,9,10,2,3,6,8,9,10,2,4,6,8,4,5,2,1,9,0,4,6,7,4,2,4,6,8,4,5,2,1,9,0,4,6,7,4,3,2,1,9,10,3,7,9,6\n"
     ]
    }
   ],
   "source": [
    "# Question 1\n",
    "import pandas as pd\n",
    "\n",
    "# open the file in read mode\n",
    "numbers = open(\"numbers.txt\", \"r\")\n",
    "\n",
    "# replace the '\\n' with comma\n",
    "numbers_replaced = numbers.read().replace(\"\\n\", \",\")\n",
    "print(numbers_replaced)"
   ]
  },
  {
   "cell_type": "code",
   "execution_count": 151,
   "id": "94ea7634",
   "metadata": {},
   "outputs": [
    {
     "name": "stdout",
     "output_type": "stream",
     "text": [
      "['2', '4', '6', '8', '4', '5', '2', '1', '9', '0', '4', '6', '7', '4', '3', '2', '1', '9', '10', '3', '7', '9', '6', '0', '1', '3', '5', '6', '7', '8', '9', '10', '2', '3', '6', '8', '9', '10', '6', '7', '4', '3', '2', '1', '9', '10', '3', '7', '9', '6', '0', '1', '3', '5', '6', '7', '8', '9', '10', '2', '3', '6', '8', '9', '10', '2', '4', '6', '8', '4', '5', '2', '1', '9', '0', '4', '6', '7', '4', '3', '2', '1', '9', '10', '3', '7', '9', '6', '4', '5', '2', '1', '9', '0', '4', '6', '7', '4', '3', '2', '1', '9', '10', '3', '7', '9', '6', '0', '1', '3', '5', '6', '7', '8', '9', '10', '2', '3', '6', '8', '9', '10', '6', '7', '4', '3', '6', '8', '4', '5', '2', '10', '3', '7', '9', '6', '0', '1', '3', '5', '6', '7', '8', '9', '10', '2', '3', '6', '8', '9', '10', '2', '4', '6', '8', '4', '5', '2', '1', '9', '0', '4', '6', '7', '4', '2', '4', '6', '8', '4', '5', '2', '1', '9', '0', '4', '6', '7', '4', '3', '2', '1', '9', '10', '3', '7', '9', '6']\n"
     ]
    }
   ],
   "source": [
    "# split the commas, store the splitted text into a list\n",
    "numbers_list = numbers_replaced.split(',')\n",
    "print(numbers_list)"
   ]
  },
  {
   "cell_type": "code",
   "execution_count": 152,
   "id": "665323a9",
   "metadata": {},
   "outputs": [
    {
     "name": "stdout",
     "output_type": "stream",
     "text": [
      "{'2': 19, '4': 22, '6': 26, '8': 13, '5': 10, '1': 14, '9': 24, '0': 9, '7': 17, '3': 20, '10': 14}\n"
     ]
    }
   ],
   "source": [
    "# create an empty dictionary\n",
    "d = {}\n",
    "\n",
    "# count the frequencies of the numbers and store them into the dictionary\n",
    "for item in numbers_list:\n",
    "    d[item] = numbers_list.count(item)\n",
    "print(d)"
   ]
  },
  {
   "cell_type": "code",
   "execution_count": 153,
   "id": "f3d53225",
   "metadata": {},
   "outputs": [
    {
     "name": "stdout",
     "output_type": "stream",
     "text": [
      "{'0': 9, '1': 14, '10': 14, '2': 19, '3': 20, '4': 22, '5': 10, '6': 26, '7': 17, '8': 13, '9': 24}\n"
     ]
    }
   ],
   "source": [
    "# sort the dictionary in incrementing sequence\n",
    "d = dict(sorted(d.items()))\n",
    "print(d)"
   ]
  },
  {
   "cell_type": "code",
   "execution_count": 183,
   "id": "eea1fa6e",
   "metadata": {},
   "outputs": [
    {
     "data": {
      "text/plain": [
       "(array([19., 22., 26., 13., 10., 14., 24.,  9., 17., 34.]),\n",
       " array([ 0.,  1.,  2.,  3.,  4.,  5.,  6.,  7.,  8.,  9., 10.]),\n",
       " <BarContainer object of 10 artists>)"
      ]
     },
     "execution_count": 183,
     "metadata": {},
     "output_type": "execute_result"
    },
    {
     "data": {
      "image/png": "[encoded data removed]",
      "text/plain": [
       "<Figure size 432x288 with 1 Axes>"
      ]
     },
     "metadata": {
      "needs_background": "light"
     },
     "output_type": "display_data"
    }
   ],
   "source": [
    "# plot the frequency results\n",
    "import pandas as pd\n",
    "import matplotlib.pyplot as plt\n",
    "import numpy as np\n",
    "\n",
    "# plot the frequency results(using histogram)\n",
    "plt.hist(numbers_list)"
   ]
  },
  {
   "cell_type": "code",
   "execution_count": 155,
   "id": "24908481",
   "metadata": {},
   "outputs": [
    {
     "name": "stdout",
     "output_type": "stream",
     "text": [
      "{'0': 9, '1': 14, '10': 14, '2': 19, '3': 20, '4': 22, '5': 10, '6': 26, '7': 17, '8': 13, '9': 24}\n",
      "{\"0\": 9, \"1\": 14, \"10\": 14, \"2\": 19, \"3\": 20, \"4\": 22, \"5\": 10, \"6\": 26, \"7\": 17, \"8\": 13, \"9\": 24}\n"
     ]
    }
   ],
   "source": [
    "# Store this dictionary results into json file\n",
    "import json\n",
    "print(d) # the dicitonary data that needs to be written to a JSON file\n",
    "\n",
    "# convert dictionary d into JSON string\n",
    "J = json.dumps(d)\n",
    "print(J)\n",
    "\n",
    "# convert dictionary d into JSON file\n",
    "filename = \"output.json\"\n",
    "with open(filename,'w')as file_object: # open the file in write mode\n",
    "    json.dump(d, file_object)"
   ]
  },
  {
   "cell_type": "code",
   "execution_count": 156,
   "id": "d1def3b3",
   "metadata": {},
   "outputs": [
    {
     "data": {
      "text/html": [
       "<div>\n",
       "<style scoped>\n",
       "    .dataframe tbody tr th:only-of-type {\n",
       "        vertical-align: middle;\n",
       "    }\n",
       "\n",
       "    .dataframe tbody tr th {\n",
       "        vertical-align: top;\n",
       "    }\n",
       "\n",
       "    .dataframe thead th {\n",
       "        text-align: right;\n",
       "    }\n",
       "</style>\n",
       "<table border=\"1\" class=\"dataframe\">\n",
       "  <thead>\n",
       "    <tr style=\"text-align: right;\">\n",
       "      <th></th>\n",
       "      <th>Order Date</th>\n",
       "      <th>Order ID</th>\n",
       "      <th>Payment Instrument Type</th>\n",
       "      <th>Website</th>\n",
       "      <th>Purchase Order Number</th>\n",
       "      <th>Ordering Customer Email</th>\n",
       "      <th>Shipment Date</th>\n",
       "      <th>Shipping Address Name</th>\n",
       "      <th>Shipping Address Street 1</th>\n",
       "      <th>Shipping Address Street 2</th>\n",
       "      <th>...</th>\n",
       "      <th>Order Status</th>\n",
       "      <th>Carrier Name &amp; Tracking Number</th>\n",
       "      <th>Subtotal</th>\n",
       "      <th>Shipping Charge</th>\n",
       "      <th>Tax Before Promotions</th>\n",
       "      <th>Total Promotions</th>\n",
       "      <th>Tax Charged</th>\n",
       "      <th>Total Charged</th>\n",
       "      <th>Buyer Name</th>\n",
       "      <th>Group Name</th>\n",
       "    </tr>\n",
       "  </thead>\n",
       "  <tbody>\n",
       "    <tr>\n",
       "      <th>0</th>\n",
       "      <td>1/8/2022</td>\n",
       "      <td>112-9745243-1916214</td>\n",
       "      <td>China UnionPay - 3136</td>\n",
       "      <td>Amazon.com</td>\n",
       "      <td>NaN</td>\n",
       "      <td>eamonlin7@gwmail.gwu.edu</td>\n",
       "      <td>1/10/2022</td>\n",
       "      <td>Yiming Lin</td>\n",
       "      <td>ROOM 812 GWU MARK SHENKMAN HALL</td>\n",
       "      <td>616 23RD ST NW WASHINGTON DC</td>\n",
       "      <td>...</td>\n",
       "      <td>Shipped</td>\n",
       "      <td>USPS(9341989721004712317594)</td>\n",
       "      <td>$48.08</td>\n",
       "      <td>$0.00</td>\n",
       "      <td>$2.88</td>\n",
       "      <td>$0.00</td>\n",
       "      <td>$2.88</td>\n",
       "      <td>$50.96</td>\n",
       "      <td>Yiming Lin</td>\n",
       "      <td>NaN</td>\n",
       "    </tr>\n",
       "    <tr>\n",
       "      <th>1</th>\n",
       "      <td>1/8/2022</td>\n",
       "      <td>112-0267944-5270679</td>\n",
       "      <td>China UnionPay - 3136</td>\n",
       "      <td>Amazon.com</td>\n",
       "      <td>NaN</td>\n",
       "      <td>eamonlin7@gwmail.gwu.edu</td>\n",
       "      <td>1/10/2022</td>\n",
       "      <td>Yiming Lin</td>\n",
       "      <td>ROOM 812 GWU MARK SHENKMAN HALL</td>\n",
       "      <td>616 23RD ST NW WASHINGTON DC</td>\n",
       "      <td>...</td>\n",
       "      <td>Shipped</td>\n",
       "      <td>USPS(9349020111408962952849)</td>\n",
       "      <td>$38.53</td>\n",
       "      <td>$3.99</td>\n",
       "      <td>$2.55</td>\n",
       "      <td>$0.00</td>\n",
       "      <td>$2.55</td>\n",
       "      <td>$45.07</td>\n",
       "      <td>Yiming Lin</td>\n",
       "      <td>NaN</td>\n",
       "    </tr>\n",
       "    <tr>\n",
       "      <th>2</th>\n",
       "      <td>1/11/2022</td>\n",
       "      <td>112-1850932-6558618</td>\n",
       "      <td>China UnionPay - 3136</td>\n",
       "      <td>Amazon.com</td>\n",
       "      <td>NaN</td>\n",
       "      <td>eamonlin7@gwmail.gwu.edu</td>\n",
       "      <td>1/12/2022</td>\n",
       "      <td>Yiming Lin</td>\n",
       "      <td>ROOM 812 GWU MARK SHENKMAN HALL</td>\n",
       "      <td>616 23RD ST NW WASHINGTON DC</td>\n",
       "      <td>...</td>\n",
       "      <td>Shipped</td>\n",
       "      <td>UPS(1Z81RF020359365951)</td>\n",
       "      <td>$129.00</td>\n",
       "      <td>$0.00</td>\n",
       "      <td>$7.74</td>\n",
       "      <td>$0.00</td>\n",
       "      <td>$7.74</td>\n",
       "      <td>$136.74</td>\n",
       "      <td>Yiming Lin</td>\n",
       "      <td>NaN</td>\n",
       "    </tr>\n",
       "    <tr>\n",
       "      <th>3</th>\n",
       "      <td>1/19/2022</td>\n",
       "      <td>112-5863236-9395434</td>\n",
       "      <td>China UnionPay - 3136</td>\n",
       "      <td>Amazon.com</td>\n",
       "      <td>NaN</td>\n",
       "      <td>eamonlin7@gwmail.gwu.edu</td>\n",
       "      <td>1/23/2022</td>\n",
       "      <td>Yiming Lin</td>\n",
       "      <td>ROOM 812 GWU MARK SHENKMAN HALL</td>\n",
       "      <td>616 23RD ST NW WASHINGTON DC</td>\n",
       "      <td>...</td>\n",
       "      <td>Shipped</td>\n",
       "      <td>USPS(9361289721008995972070)</td>\n",
       "      <td>$98.27</td>\n",
       "      <td>$0.00</td>\n",
       "      <td>$5.90</td>\n",
       "      <td>$0.00</td>\n",
       "      <td>$5.90</td>\n",
       "      <td>$104.17</td>\n",
       "      <td>Yiming Lin</td>\n",
       "      <td>NaN</td>\n",
       "    </tr>\n",
       "    <tr>\n",
       "      <th>4</th>\n",
       "      <td>1/24/2022</td>\n",
       "      <td>112-7786152-3721001</td>\n",
       "      <td>China UnionPay - 3136</td>\n",
       "      <td>Amazon.com</td>\n",
       "      <td>NaN</td>\n",
       "      <td>eamonlin7@gwmail.gwu.edu</td>\n",
       "      <td>1/25/2022</td>\n",
       "      <td>Yiming Lin</td>\n",
       "      <td>ROOM 812 GWU MARK SHENKMAN HALL</td>\n",
       "      <td>616 23RD ST NW WASHINGTON DC</td>\n",
       "      <td>...</td>\n",
       "      <td>Shipped</td>\n",
       "      <td>USPS(9361289721009032230481)</td>\n",
       "      <td>$31.44</td>\n",
       "      <td>$0.00</td>\n",
       "      <td>$1.89</td>\n",
       "      <td>$0.00</td>\n",
       "      <td>$1.89</td>\n",
       "      <td>$33.33</td>\n",
       "      <td>Yiming Lin</td>\n",
       "      <td>NaN</td>\n",
       "    </tr>\n",
       "  </tbody>\n",
       "</table>\n",
       "<p>5 rows × 23 columns</p>\n",
       "</div>"
      ],
      "text/plain": [
       "  Order Date             Order ID Payment Instrument Type     Website  \\\n",
       "0   1/8/2022  112-9745243-1916214   China UnionPay - 3136  Amazon.com   \n",
       "1   1/8/2022  112-0267944-5270679   China UnionPay - 3136  Amazon.com   \n",
       "2  1/11/2022  112-1850932-6558618   China UnionPay - 3136  Amazon.com   \n",
       "3  1/19/2022  112-5863236-9395434   China UnionPay - 3136  Amazon.com   \n",
       "4  1/24/2022  112-7786152-3721001   China UnionPay - 3136  Amazon.com   \n",
       "\n",
       "   Purchase Order Number   Ordering Customer Email Shipment Date  \\\n",
       "0                    NaN  eamonlin7@gwmail.gwu.edu     1/10/2022   \n",
       "1                    NaN  eamonlin7@gwmail.gwu.edu     1/10/2022   \n",
       "2                    NaN  eamonlin7@gwmail.gwu.edu     1/12/2022   \n",
       "3                    NaN  eamonlin7@gwmail.gwu.edu     1/23/2022   \n",
       "4                    NaN  eamonlin7@gwmail.gwu.edu     1/25/2022   \n",
       "\n",
       "  Shipping Address Name        Shipping Address Street 1  \\\n",
       "0            Yiming Lin  ROOM 812 GWU MARK SHENKMAN HALL   \n",
       "1            Yiming Lin  ROOM 812 GWU MARK SHENKMAN HALL   \n",
       "2            Yiming Lin  ROOM 812 GWU MARK SHENKMAN HALL   \n",
       "3            Yiming Lin  ROOM 812 GWU MARK SHENKMAN HALL   \n",
       "4            Yiming Lin  ROOM 812 GWU MARK SHENKMAN HALL   \n",
       "\n",
       "      Shipping Address Street 2  ... Order Status  \\\n",
       "0  616 23RD ST NW WASHINGTON DC  ...      Shipped   \n",
       "1  616 23RD ST NW WASHINGTON DC  ...      Shipped   \n",
       "2  616 23RD ST NW WASHINGTON DC  ...      Shipped   \n",
       "3  616 23RD ST NW WASHINGTON DC  ...      Shipped   \n",
       "4  616 23RD ST NW WASHINGTON DC  ...      Shipped   \n",
       "\n",
       "  Carrier Name & Tracking Number  Subtotal Shipping Charge  \\\n",
       "0   USPS(9341989721004712317594)   $48.08           $0.00    \n",
       "1   USPS(9349020111408962952849)   $38.53           $3.99    \n",
       "2        UPS(1Z81RF020359365951)  $129.00           $0.00    \n",
       "3   USPS(9361289721008995972070)   $98.27           $0.00    \n",
       "4   USPS(9361289721009032230481)   $31.44           $0.00    \n",
       "\n",
       "  Tax Before Promotions Total Promotions Tax Charged Total Charged  \\\n",
       "0                $2.88            $0.00       $2.88        $50.96    \n",
       "1                $2.55            $0.00       $2.55        $45.07    \n",
       "2                $7.74            $0.00       $7.74       $136.74    \n",
       "3                $5.90            $0.00       $5.90       $104.17    \n",
       "4                $1.89            $0.00       $1.89        $33.33    \n",
       "\n",
       "   Buyer Name Group Name  \n",
       "0  Yiming Lin        NaN  \n",
       "1  Yiming Lin        NaN  \n",
       "2  Yiming Lin        NaN  \n",
       "3  Yiming Lin        NaN  \n",
       "4  Yiming Lin        NaN  \n",
       "\n",
       "[5 rows x 23 columns]"
      ]
     },
     "execution_count": 156,
     "metadata": {},
     "output_type": "execute_result"
    }
   ],
   "source": [
    "# Question 2 Choice 2\n",
    "# Eamon Amazon Order Report_2022\n",
    "\n",
    "import pandas as pd\n",
    "df = pd.read_csv('Eamon_Amazon_Order.csv')\n",
    "\n",
    "df.head()"
   ]
  },
  {
   "cell_type": "code",
   "execution_count": 157,
   "id": "1f80656d",
   "metadata": {},
   "outputs": [
    {
     "data": {
      "text/plain": [
       "(53, 23)"
      ]
     },
     "execution_count": 157,
     "metadata": {},
     "output_type": "execute_result"
    }
   ],
   "source": [
    "df.shape\n",
    "# Our DataFrame has 54 rows and 23 columns"
   ]
  },
  {
   "cell_type": "code",
   "execution_count": 158,
   "id": "b8229370",
   "metadata": {},
   "outputs": [
    {
     "data": {
      "text/html": [
       "<div>\n",
       "<style scoped>\n",
       "    .dataframe tbody tr th:only-of-type {\n",
       "        vertical-align: middle;\n",
       "    }\n",
       "\n",
       "    .dataframe tbody tr th {\n",
       "        vertical-align: top;\n",
       "    }\n",
       "\n",
       "    .dataframe thead th {\n",
       "        text-align: right;\n",
       "    }\n",
       "</style>\n",
       "<table border=\"1\" class=\"dataframe\">\n",
       "  <thead>\n",
       "    <tr style=\"text-align: right;\">\n",
       "      <th></th>\n",
       "      <th>Order Date</th>\n",
       "      <th>Order ID</th>\n",
       "      <th>Payment Instrument Type</th>\n",
       "      <th>Website</th>\n",
       "      <th>Purchase Order Number</th>\n",
       "      <th>Ordering Customer Email</th>\n",
       "      <th>Shipment Date</th>\n",
       "      <th>Shipping Address Name</th>\n",
       "      <th>Shipping Address Street 1</th>\n",
       "      <th>Shipping Address Street 2</th>\n",
       "      <th>...</th>\n",
       "      <th>Order Status</th>\n",
       "      <th>Carrier Name &amp; Tracking Number</th>\n",
       "      <th>Subtotal</th>\n",
       "      <th>Shipping Charge</th>\n",
       "      <th>Tax Before Promotions</th>\n",
       "      <th>Total Promotions</th>\n",
       "      <th>Tax Charged</th>\n",
       "      <th>Total Charged</th>\n",
       "      <th>Buyer Name</th>\n",
       "      <th>Group Name</th>\n",
       "    </tr>\n",
       "  </thead>\n",
       "  <tbody>\n",
       "    <tr>\n",
       "      <th>0</th>\n",
       "      <td>1/8/2022</td>\n",
       "      <td>112-9745243-1916214</td>\n",
       "      <td>China UnionPay - 3136</td>\n",
       "      <td>Amazon.com</td>\n",
       "      <td>0.0</td>\n",
       "      <td>eamonlin7@gwmail.gwu.edu</td>\n",
       "      <td>1/10/2022</td>\n",
       "      <td>Yiming Lin</td>\n",
       "      <td>ROOM 812 GWU MARK SHENKMAN HALL</td>\n",
       "      <td>616 23RD ST NW WASHINGTON DC</td>\n",
       "      <td>...</td>\n",
       "      <td>Shipped</td>\n",
       "      <td>USPS(9341989721004712317594)</td>\n",
       "      <td>$48.08</td>\n",
       "      <td>$0.00</td>\n",
       "      <td>$2.88</td>\n",
       "      <td>$0.00</td>\n",
       "      <td>$2.88</td>\n",
       "      <td>$50.96</td>\n",
       "      <td>Yiming Lin</td>\n",
       "      <td>0.0</td>\n",
       "    </tr>\n",
       "    <tr>\n",
       "      <th>1</th>\n",
       "      <td>1/8/2022</td>\n",
       "      <td>112-0267944-5270679</td>\n",
       "      <td>China UnionPay - 3136</td>\n",
       "      <td>Amazon.com</td>\n",
       "      <td>0.0</td>\n",
       "      <td>eamonlin7@gwmail.gwu.edu</td>\n",
       "      <td>1/10/2022</td>\n",
       "      <td>Yiming Lin</td>\n",
       "      <td>ROOM 812 GWU MARK SHENKMAN HALL</td>\n",
       "      <td>616 23RD ST NW WASHINGTON DC</td>\n",
       "      <td>...</td>\n",
       "      <td>Shipped</td>\n",
       "      <td>USPS(9349020111408962952849)</td>\n",
       "      <td>$38.53</td>\n",
       "      <td>$3.99</td>\n",
       "      <td>$2.55</td>\n",
       "      <td>$0.00</td>\n",
       "      <td>$2.55</td>\n",
       "      <td>$45.07</td>\n",
       "      <td>Yiming Lin</td>\n",
       "      <td>0.0</td>\n",
       "    </tr>\n",
       "    <tr>\n",
       "      <th>2</th>\n",
       "      <td>1/11/2022</td>\n",
       "      <td>112-1850932-6558618</td>\n",
       "      <td>China UnionPay - 3136</td>\n",
       "      <td>Amazon.com</td>\n",
       "      <td>0.0</td>\n",
       "      <td>eamonlin7@gwmail.gwu.edu</td>\n",
       "      <td>1/12/2022</td>\n",
       "      <td>Yiming Lin</td>\n",
       "      <td>ROOM 812 GWU MARK SHENKMAN HALL</td>\n",
       "      <td>616 23RD ST NW WASHINGTON DC</td>\n",
       "      <td>...</td>\n",
       "      <td>Shipped</td>\n",
       "      <td>UPS(1Z81RF020359365951)</td>\n",
       "      <td>$129.00</td>\n",
       "      <td>$0.00</td>\n",
       "      <td>$7.74</td>\n",
       "      <td>$0.00</td>\n",
       "      <td>$7.74</td>\n",
       "      <td>$136.74</td>\n",
       "      <td>Yiming Lin</td>\n",
       "      <td>0.0</td>\n",
       "    </tr>\n",
       "    <tr>\n",
       "      <th>3</th>\n",
       "      <td>1/19/2022</td>\n",
       "      <td>112-5863236-9395434</td>\n",
       "      <td>China UnionPay - 3136</td>\n",
       "      <td>Amazon.com</td>\n",
       "      <td>0.0</td>\n",
       "      <td>eamonlin7@gwmail.gwu.edu</td>\n",
       "      <td>1/23/2022</td>\n",
       "      <td>Yiming Lin</td>\n",
       "      <td>ROOM 812 GWU MARK SHENKMAN HALL</td>\n",
       "      <td>616 23RD ST NW WASHINGTON DC</td>\n",
       "      <td>...</td>\n",
       "      <td>Shipped</td>\n",
       "      <td>USPS(9361289721008995972070)</td>\n",
       "      <td>$98.27</td>\n",
       "      <td>$0.00</td>\n",
       "      <td>$5.90</td>\n",
       "      <td>$0.00</td>\n",
       "      <td>$5.90</td>\n",
       "      <td>$104.17</td>\n",
       "      <td>Yiming Lin</td>\n",
       "      <td>0.0</td>\n",
       "    </tr>\n",
       "    <tr>\n",
       "      <th>4</th>\n",
       "      <td>1/24/2022</td>\n",
       "      <td>112-7786152-3721001</td>\n",
       "      <td>China UnionPay - 3136</td>\n",
       "      <td>Amazon.com</td>\n",
       "      <td>0.0</td>\n",
       "      <td>eamonlin7@gwmail.gwu.edu</td>\n",
       "      <td>1/25/2022</td>\n",
       "      <td>Yiming Lin</td>\n",
       "      <td>ROOM 812 GWU MARK SHENKMAN HALL</td>\n",
       "      <td>616 23RD ST NW WASHINGTON DC</td>\n",
       "      <td>...</td>\n",
       "      <td>Shipped</td>\n",
       "      <td>USPS(9361289721009032230481)</td>\n",
       "      <td>$31.44</td>\n",
       "      <td>$0.00</td>\n",
       "      <td>$1.89</td>\n",
       "      <td>$0.00</td>\n",
       "      <td>$1.89</td>\n",
       "      <td>$33.33</td>\n",
       "      <td>Yiming Lin</td>\n",
       "      <td>0.0</td>\n",
       "    </tr>\n",
       "  </tbody>\n",
       "</table>\n",
       "<p>5 rows × 23 columns</p>\n",
       "</div>"
      ],
      "text/plain": [
       "  Order Date             Order ID Payment Instrument Type     Website  \\\n",
       "0   1/8/2022  112-9745243-1916214   China UnionPay - 3136  Amazon.com   \n",
       "1   1/8/2022  112-0267944-5270679   China UnionPay - 3136  Amazon.com   \n",
       "2  1/11/2022  112-1850932-6558618   China UnionPay - 3136  Amazon.com   \n",
       "3  1/19/2022  112-5863236-9395434   China UnionPay - 3136  Amazon.com   \n",
       "4  1/24/2022  112-7786152-3721001   China UnionPay - 3136  Amazon.com   \n",
       "\n",
       "   Purchase Order Number   Ordering Customer Email Shipment Date  \\\n",
       "0                    0.0  eamonlin7@gwmail.gwu.edu     1/10/2022   \n",
       "1                    0.0  eamonlin7@gwmail.gwu.edu     1/10/2022   \n",
       "2                    0.0  eamonlin7@gwmail.gwu.edu     1/12/2022   \n",
       "3                    0.0  eamonlin7@gwmail.gwu.edu     1/23/2022   \n",
       "4                    0.0  eamonlin7@gwmail.gwu.edu     1/25/2022   \n",
       "\n",
       "  Shipping Address Name        Shipping Address Street 1  \\\n",
       "0            Yiming Lin  ROOM 812 GWU MARK SHENKMAN HALL   \n",
       "1            Yiming Lin  ROOM 812 GWU MARK SHENKMAN HALL   \n",
       "2            Yiming Lin  ROOM 812 GWU MARK SHENKMAN HALL   \n",
       "3            Yiming Lin  ROOM 812 GWU MARK SHENKMAN HALL   \n",
       "4            Yiming Lin  ROOM 812 GWU MARK SHENKMAN HALL   \n",
       "\n",
       "      Shipping Address Street 2  ... Order Status  \\\n",
       "0  616 23RD ST NW WASHINGTON DC  ...      Shipped   \n",
       "1  616 23RD ST NW WASHINGTON DC  ...      Shipped   \n",
       "2  616 23RD ST NW WASHINGTON DC  ...      Shipped   \n",
       "3  616 23RD ST NW WASHINGTON DC  ...      Shipped   \n",
       "4  616 23RD ST NW WASHINGTON DC  ...      Shipped   \n",
       "\n",
       "  Carrier Name & Tracking Number  Subtotal Shipping Charge  \\\n",
       "0   USPS(9341989721004712317594)   $48.08           $0.00    \n",
       "1   USPS(9349020111408962952849)   $38.53           $3.99    \n",
       "2        UPS(1Z81RF020359365951)  $129.00           $0.00    \n",
       "3   USPS(9361289721008995972070)   $98.27           $0.00    \n",
       "4   USPS(9361289721009032230481)   $31.44           $0.00    \n",
       "\n",
       "  Tax Before Promotions Total Promotions Tax Charged Total Charged  \\\n",
       "0                $2.88            $0.00       $2.88        $50.96    \n",
       "1                $2.55            $0.00       $2.55        $45.07    \n",
       "2                $7.74            $0.00       $7.74       $136.74    \n",
       "3                $5.90            $0.00       $5.90       $104.17    \n",
       "4                $1.89            $0.00       $1.89        $33.33    \n",
       "\n",
       "   Buyer Name Group Name  \n",
       "0  Yiming Lin        0.0  \n",
       "1  Yiming Lin        0.0  \n",
       "2  Yiming Lin        0.0  \n",
       "3  Yiming Lin        0.0  \n",
       "4  Yiming Lin        0.0  \n",
       "\n",
       "[5 rows x 23 columns]"
      ]
     },
     "execution_count": 158,
     "metadata": {},
     "output_type": "execute_result"
    }
   ],
   "source": [
    "# Cleaning the data\n",
    "df = df.fillna(0)\n",
    "df.head()"
   ]
  },
  {
   "cell_type": "code",
   "execution_count": 159,
   "id": "06b9530e",
   "metadata": {},
   "outputs": [
    {
     "name": "stderr",
     "output_type": "stream",
     "text": [
      "/tmp/ipykernel_27/867645356.py:2: FutureWarning: The default value of regex will change from True to False in a future version. In addition, single character regular expressions will *not* be treated as literal strings when regex=True.\n",
      "  df[\"Total Charged\"] = df[\"Total Charged\"].str.replace('$','').astype(float)\n"
     ]
    }
   ],
   "source": [
    "# remove the dollar signs before we can perform calculations\n",
    "df[\"Total Charged\"] = df[\"Total Charged\"].str.replace('$','').astype(float)"
   ]
  },
  {
   "cell_type": "code",
   "execution_count": 160,
   "id": "13f117a9",
   "metadata": {},
   "outputs": [
    {
     "data": {
      "text/html": [
       "<div>\n",
       "<style scoped>\n",
       "    .dataframe tbody tr th:only-of-type {\n",
       "        vertical-align: middle;\n",
       "    }\n",
       "\n",
       "    .dataframe tbody tr th {\n",
       "        vertical-align: top;\n",
       "    }\n",
       "\n",
       "    .dataframe thead th {\n",
       "        text-align: right;\n",
       "    }\n",
       "</style>\n",
       "<table border=\"1\" class=\"dataframe\">\n",
       "  <thead>\n",
       "    <tr style=\"text-align: right;\">\n",
       "      <th></th>\n",
       "      <th>Order Date</th>\n",
       "      <th>Total Charged</th>\n",
       "    </tr>\n",
       "  </thead>\n",
       "  <tbody>\n",
       "    <tr>\n",
       "      <th>0</th>\n",
       "      <td>1/8/2022</td>\n",
       "      <td>50.96</td>\n",
       "    </tr>\n",
       "    <tr>\n",
       "      <th>1</th>\n",
       "      <td>1/8/2022</td>\n",
       "      <td>45.07</td>\n",
       "    </tr>\n",
       "    <tr>\n",
       "      <th>2</th>\n",
       "      <td>1/11/2022</td>\n",
       "      <td>136.74</td>\n",
       "    </tr>\n",
       "    <tr>\n",
       "      <th>3</th>\n",
       "      <td>1/19/2022</td>\n",
       "      <td>104.17</td>\n",
       "    </tr>\n",
       "    <tr>\n",
       "      <th>4</th>\n",
       "      <td>1/24/2022</td>\n",
       "      <td>33.33</td>\n",
       "    </tr>\n",
       "  </tbody>\n",
       "</table>\n",
       "</div>"
      ],
      "text/plain": [
       "  Order Date  Total Charged\n",
       "0   1/8/2022          50.96\n",
       "1   1/8/2022          45.07\n",
       "2  1/11/2022         136.74\n",
       "3  1/19/2022         104.17\n",
       "4  1/24/2022          33.33"
      ]
     },
     "execution_count": 160,
     "metadata": {},
     "output_type": "execute_result"
    }
   ],
   "source": [
    "df.loc[:,[\"Order Date\", \"Total Charged\"]].head()"
   ]
  },
  {
   "cell_type": "code",
   "execution_count": 161,
   "id": "ebaa659a",
   "metadata": {},
   "outputs": [
    {
     "data": {
      "text/plain": [
       "1980.27"
      ]
     },
     "execution_count": 161,
     "metadata": {},
     "output_type": "execute_result"
    }
   ],
   "source": [
    "df[\"Total Charged\"].sum()\n",
    "# The annual budget in 2022 was $1980.27"
   ]
  },
  {
   "cell_type": "code",
   "execution_count": 162,
   "id": "df38e18d",
   "metadata": {},
   "outputs": [
    {
     "data": {
      "text/plain": [
       "37.36358490566037"
      ]
     },
     "execution_count": 162,
     "metadata": {},
     "output_type": "execute_result"
    }
   ],
   "source": [
    "df[\"Total Charged\"].mean()\n",
    "# The average cost for every order is about $37.36"
   ]
  },
  {
   "cell_type": "code",
   "execution_count": 163,
   "id": "4bc49ba8",
   "metadata": {},
   "outputs": [
    {
     "data": {
      "text/plain": [
       "26.37"
      ]
     },
     "execution_count": 163,
     "metadata": {},
     "output_type": "execute_result"
    }
   ],
   "source": [
    "df[\"Total Charged\"].median()"
   ]
  },
  {
   "cell_type": "code",
   "execution_count": 164,
   "id": "e85ea36c",
   "metadata": {},
   "outputs": [
    {
     "data": {
      "text/plain": [
       "144.14"
      ]
     },
     "execution_count": 164,
     "metadata": {},
     "output_type": "execute_result"
    }
   ],
   "source": [
    "df[\"Total Charged\"].max()"
   ]
  },
  {
   "cell_type": "code",
   "execution_count": 165,
   "id": "864e3a66",
   "metadata": {},
   "outputs": [
    {
     "data": {
      "text/plain": [
       "6.35"
      ]
     },
     "execution_count": 165,
     "metadata": {},
     "output_type": "execute_result"
    }
   ],
   "source": [
    "df[\"Total Charged\"].min()"
   ]
  },
  {
   "cell_type": "code",
   "execution_count": 166,
   "id": "f67189a0",
   "metadata": {},
   "outputs": [
    {
     "data": {
      "text/plain": [
       "31.670615663682494"
      ]
     },
     "execution_count": 166,
     "metadata": {},
     "output_type": "execute_result"
    }
   ],
   "source": [
    "# calculate the standard deviation\n",
    "import statistics\n",
    "df[\"Total Charged\"].std(skipna = True)"
   ]
  },
  {
   "cell_type": "code",
   "execution_count": 167,
   "id": "287e89ef",
   "metadata": {},
   "outputs": [
    {
     "name": "stderr",
     "output_type": "stream",
     "text": [
      "/tmp/ipykernel_27/2129898747.py:2: FutureWarning: The default value of regex will change from True to False in a future version. In addition, single character regular expressions will *not* be treated as literal strings when regex=True.\n",
      "  df[\"Tax Charged\"] = df[\"Tax Charged\"].str.replace('$','').astype(float)\n"
     ]
    }
   ],
   "source": [
    "# Sales tax calculation\n",
    "df[\"Tax Charged\"] = df[\"Tax Charged\"].str.replace('$','').astype(float)"
   ]
  },
  {
   "cell_type": "code",
   "execution_count": 168,
   "id": "4efcd36f",
   "metadata": {},
   "outputs": [
    {
     "data": {
      "text/plain": [
       "102.89"
      ]
     },
     "execution_count": 168,
     "metadata": {},
     "output_type": "execute_result"
    }
   ],
   "source": [
    "df[\"Tax Charged\"].sum()\n",
    "# $102.89 I spent on Amazon went towards taxes"
   ]
  },
  {
   "cell_type": "code",
   "execution_count": 169,
   "id": "bf65aa3f",
   "metadata": {},
   "outputs": [
    {
     "data": {
      "text/plain": [
       "0.051957561342645196"
      ]
     },
     "execution_count": 169,
     "metadata": {},
     "output_type": "execute_result"
    }
   ],
   "source": [
    "df[\"Tax Charged\"].sum()  / df[\"Total Charged\"].sum()\n",
    "# the overall effective sales tax rate was about \n",
    "# 5.20%"
   ]
  },
  {
   "cell_type": "code",
   "execution_count": 170,
   "id": "f8671730",
   "metadata": {},
   "outputs": [
    {
     "data": {
      "text/html": [
       "<div>\n",
       "<style scoped>\n",
       "    .dataframe tbody tr th:only-of-type {\n",
       "        vertical-align: middle;\n",
       "    }\n",
       "\n",
       "    .dataframe tbody tr th {\n",
       "        vertical-align: top;\n",
       "    }\n",
       "\n",
       "    .dataframe thead th {\n",
       "        text-align: right;\n",
       "    }\n",
       "</style>\n",
       "<table border=\"1\" class=\"dataframe\">\n",
       "  <thead>\n",
       "    <tr style=\"text-align: right;\">\n",
       "      <th></th>\n",
       "      <th>Order Date</th>\n",
       "      <th>Order ID</th>\n",
       "      <th>Payment Instrument Type</th>\n",
       "      <th>Website</th>\n",
       "      <th>Purchase Order Number</th>\n",
       "      <th>Ordering Customer Email</th>\n",
       "      <th>Shipment Date</th>\n",
       "      <th>Shipping Address Name</th>\n",
       "      <th>Shipping Address Street 1</th>\n",
       "      <th>Shipping Address Street 2</th>\n",
       "      <th>...</th>\n",
       "      <th>Order Status</th>\n",
       "      <th>Carrier Name &amp; Tracking Number</th>\n",
       "      <th>Subtotal</th>\n",
       "      <th>Shipping Charge</th>\n",
       "      <th>Tax Before Promotions</th>\n",
       "      <th>Total Promotions</th>\n",
       "      <th>Tax Charged</th>\n",
       "      <th>Total Charged</th>\n",
       "      <th>Buyer Name</th>\n",
       "      <th>Group Name</th>\n",
       "    </tr>\n",
       "  </thead>\n",
       "  <tbody>\n",
       "    <tr>\n",
       "      <th>0</th>\n",
       "      <td>2022-01-08</td>\n",
       "      <td>112-9745243-1916214</td>\n",
       "      <td>China UnionPay - 3136</td>\n",
       "      <td>Amazon.com</td>\n",
       "      <td>0.0</td>\n",
       "      <td>eamonlin7@gwmail.gwu.edu</td>\n",
       "      <td>1/10/2022</td>\n",
       "      <td>Yiming Lin</td>\n",
       "      <td>ROOM 812 GWU MARK SHENKMAN HALL</td>\n",
       "      <td>616 23RD ST NW WASHINGTON DC</td>\n",
       "      <td>...</td>\n",
       "      <td>Shipped</td>\n",
       "      <td>USPS(9341989721004712317594)</td>\n",
       "      <td>$48.08</td>\n",
       "      <td>$0.00</td>\n",
       "      <td>$2.88</td>\n",
       "      <td>$0.00</td>\n",
       "      <td>2.88</td>\n",
       "      <td>50.96</td>\n",
       "      <td>Yiming Lin</td>\n",
       "      <td>0.0</td>\n",
       "    </tr>\n",
       "    <tr>\n",
       "      <th>1</th>\n",
       "      <td>2022-01-08</td>\n",
       "      <td>112-0267944-5270679</td>\n",
       "      <td>China UnionPay - 3136</td>\n",
       "      <td>Amazon.com</td>\n",
       "      <td>0.0</td>\n",
       "      <td>eamonlin7@gwmail.gwu.edu</td>\n",
       "      <td>1/10/2022</td>\n",
       "      <td>Yiming Lin</td>\n",
       "      <td>ROOM 812 GWU MARK SHENKMAN HALL</td>\n",
       "      <td>616 23RD ST NW WASHINGTON DC</td>\n",
       "      <td>...</td>\n",
       "      <td>Shipped</td>\n",
       "      <td>USPS(9349020111408962952849)</td>\n",
       "      <td>$38.53</td>\n",
       "      <td>$3.99</td>\n",
       "      <td>$2.55</td>\n",
       "      <td>$0.00</td>\n",
       "      <td>2.55</td>\n",
       "      <td>45.07</td>\n",
       "      <td>Yiming Lin</td>\n",
       "      <td>0.0</td>\n",
       "    </tr>\n",
       "    <tr>\n",
       "      <th>2</th>\n",
       "      <td>2022-01-11</td>\n",
       "      <td>112-1850932-6558618</td>\n",
       "      <td>China UnionPay - 3136</td>\n",
       "      <td>Amazon.com</td>\n",
       "      <td>0.0</td>\n",
       "      <td>eamonlin7@gwmail.gwu.edu</td>\n",
       "      <td>1/12/2022</td>\n",
       "      <td>Yiming Lin</td>\n",
       "      <td>ROOM 812 GWU MARK SHENKMAN HALL</td>\n",
       "      <td>616 23RD ST NW WASHINGTON DC</td>\n",
       "      <td>...</td>\n",
       "      <td>Shipped</td>\n",
       "      <td>UPS(1Z81RF020359365951)</td>\n",
       "      <td>$129.00</td>\n",
       "      <td>$0.00</td>\n",
       "      <td>$7.74</td>\n",
       "      <td>$0.00</td>\n",
       "      <td>7.74</td>\n",
       "      <td>136.74</td>\n",
       "      <td>Yiming Lin</td>\n",
       "      <td>0.0</td>\n",
       "    </tr>\n",
       "    <tr>\n",
       "      <th>3</th>\n",
       "      <td>2022-01-19</td>\n",
       "      <td>112-5863236-9395434</td>\n",
       "      <td>China UnionPay - 3136</td>\n",
       "      <td>Amazon.com</td>\n",
       "      <td>0.0</td>\n",
       "      <td>eamonlin7@gwmail.gwu.edu</td>\n",
       "      <td>1/23/2022</td>\n",
       "      <td>Yiming Lin</td>\n",
       "      <td>ROOM 812 GWU MARK SHENKMAN HALL</td>\n",
       "      <td>616 23RD ST NW WASHINGTON DC</td>\n",
       "      <td>...</td>\n",
       "      <td>Shipped</td>\n",
       "      <td>USPS(9361289721008995972070)</td>\n",
       "      <td>$98.27</td>\n",
       "      <td>$0.00</td>\n",
       "      <td>$5.90</td>\n",
       "      <td>$0.00</td>\n",
       "      <td>5.90</td>\n",
       "      <td>104.17</td>\n",
       "      <td>Yiming Lin</td>\n",
       "      <td>0.0</td>\n",
       "    </tr>\n",
       "    <tr>\n",
       "      <th>4</th>\n",
       "      <td>2022-01-24</td>\n",
       "      <td>112-7786152-3721001</td>\n",
       "      <td>China UnionPay - 3136</td>\n",
       "      <td>Amazon.com</td>\n",
       "      <td>0.0</td>\n",
       "      <td>eamonlin7@gwmail.gwu.edu</td>\n",
       "      <td>1/25/2022</td>\n",
       "      <td>Yiming Lin</td>\n",
       "      <td>ROOM 812 GWU MARK SHENKMAN HALL</td>\n",
       "      <td>616 23RD ST NW WASHINGTON DC</td>\n",
       "      <td>...</td>\n",
       "      <td>Shipped</td>\n",
       "      <td>USPS(9361289721009032230481)</td>\n",
       "      <td>$31.44</td>\n",
       "      <td>$0.00</td>\n",
       "      <td>$1.89</td>\n",
       "      <td>$0.00</td>\n",
       "      <td>1.89</td>\n",
       "      <td>33.33</td>\n",
       "      <td>Yiming Lin</td>\n",
       "      <td>0.0</td>\n",
       "    </tr>\n",
       "  </tbody>\n",
       "</table>\n",
       "<p>5 rows × 23 columns</p>\n",
       "</div>"
      ],
      "text/plain": [
       "  Order Date             Order ID Payment Instrument Type     Website  \\\n",
       "0 2022-01-08  112-9745243-1916214   China UnionPay - 3136  Amazon.com   \n",
       "1 2022-01-08  112-0267944-5270679   China UnionPay - 3136  Amazon.com   \n",
       "2 2022-01-11  112-1850932-6558618   China UnionPay - 3136  Amazon.com   \n",
       "3 2022-01-19  112-5863236-9395434   China UnionPay - 3136  Amazon.com   \n",
       "4 2022-01-24  112-7786152-3721001   China UnionPay - 3136  Amazon.com   \n",
       "\n",
       "   Purchase Order Number   Ordering Customer Email Shipment Date  \\\n",
       "0                    0.0  eamonlin7@gwmail.gwu.edu     1/10/2022   \n",
       "1                    0.0  eamonlin7@gwmail.gwu.edu     1/10/2022   \n",
       "2                    0.0  eamonlin7@gwmail.gwu.edu     1/12/2022   \n",
       "3                    0.0  eamonlin7@gwmail.gwu.edu     1/23/2022   \n",
       "4                    0.0  eamonlin7@gwmail.gwu.edu     1/25/2022   \n",
       "\n",
       "  Shipping Address Name        Shipping Address Street 1  \\\n",
       "0            Yiming Lin  ROOM 812 GWU MARK SHENKMAN HALL   \n",
       "1            Yiming Lin  ROOM 812 GWU MARK SHENKMAN HALL   \n",
       "2            Yiming Lin  ROOM 812 GWU MARK SHENKMAN HALL   \n",
       "3            Yiming Lin  ROOM 812 GWU MARK SHENKMAN HALL   \n",
       "4            Yiming Lin  ROOM 812 GWU MARK SHENKMAN HALL   \n",
       "\n",
       "      Shipping Address Street 2  ... Order Status  \\\n",
       "0  616 23RD ST NW WASHINGTON DC  ...      Shipped   \n",
       "1  616 23RD ST NW WASHINGTON DC  ...      Shipped   \n",
       "2  616 23RD ST NW WASHINGTON DC  ...      Shipped   \n",
       "3  616 23RD ST NW WASHINGTON DC  ...      Shipped   \n",
       "4  616 23RD ST NW WASHINGTON DC  ...      Shipped   \n",
       "\n",
       "  Carrier Name & Tracking Number  Subtotal Shipping Charge  \\\n",
       "0   USPS(9341989721004712317594)   $48.08           $0.00    \n",
       "1   USPS(9349020111408962952849)   $38.53           $3.99    \n",
       "2        UPS(1Z81RF020359365951)  $129.00           $0.00    \n",
       "3   USPS(9361289721008995972070)   $98.27           $0.00    \n",
       "4   USPS(9361289721009032230481)   $31.44           $0.00    \n",
       "\n",
       "  Tax Before Promotions Total Promotions Tax Charged Total Charged  \\\n",
       "0                $2.88            $0.00         2.88         50.96   \n",
       "1                $2.55            $0.00         2.55         45.07   \n",
       "2                $7.74            $0.00         7.74        136.74   \n",
       "3                $5.90            $0.00         5.90        104.17   \n",
       "4                $1.89            $0.00         1.89         33.33   \n",
       "\n",
       "   Buyer Name  Group Name  \n",
       "0  Yiming Lin         0.0  \n",
       "1  Yiming Lin         0.0  \n",
       "2  Yiming Lin         0.0  \n",
       "3  Yiming Lin         0.0  \n",
       "4  Yiming Lin         0.0  \n",
       "\n",
       "[5 rows x 23 columns]"
      ]
     },
     "execution_count": 170,
     "metadata": {},
     "output_type": "execute_result"
    }
   ],
   "source": [
    "df['Order Date'] = pd.to_datetime(df['Order Date'])\n",
    "df.head()\n",
    "# convert dates to a datetime data type\n",
    "# the date formatting changed from 2022/01/08 to 2022-01-08"
   ]
  },
  {
   "cell_type": "code",
   "execution_count": 171,
   "id": "0924ff41",
   "metadata": {},
   "outputs": [
    {
     "data": {
      "text/plain": [
       "<AxesSubplot:xlabel='Order Date'>"
      ]
     },
     "execution_count": 171,
     "metadata": {},
     "output_type": "execute_result"
    },
    {
     "data": {
      "image/png": "[encoded data removed]",
      "text/plain": [
       "<Figure size 1440x720 with 1 Axes>"
      ]
     },
     "metadata": {
      "needs_background": "light"
     },
     "output_type": "display_data"
    }
   ],
   "source": [
    "df.plot.bar(x='Order Date', y='Total Charged',rot=90,figsize=(20,10))\n",
    "# bar chart of each consumption "
   ]
  },
  {
   "cell_type": "code",
   "execution_count": 172,
   "id": "720189f9",
   "metadata": {},
   "outputs": [
    {
     "data": {
      "text/plain": [
       "Order Date\n",
       "2022-01-08     96.03\n",
       "2022-01-11    136.74\n",
       "2022-01-19    104.17\n",
       "2022-01-24     33.33\n",
       "2022-02-02     79.80\n",
       "Name: Total Charged, dtype: float64"
      ]
     },
     "execution_count": 172,
     "metadata": {},
     "output_type": "execute_result"
    }
   ],
   "source": [
    "# to see how much was spend each DAY\n",
    "daily_orders = df.groupby('Order Date').sum()['Total Charged']\n",
    "daily_orders.head()"
   ]
  },
  {
   "cell_type": "code",
   "execution_count": 173,
   "id": "7bcb8021",
   "metadata": {},
   "outputs": [
    {
     "data": {
      "text/plain": [
       "<AxesSubplot:xlabel='Order Date'>"
      ]
     },
     "execution_count": 173,
     "metadata": {},
     "output_type": "execute_result"
    },
    {
     "data": {
      "image/png": "[encoded data removed]",
      "text/plain": [
       "<Figure size 1440x720 with 1 Axes>"
      ]
     },
     "metadata": {
      "needs_background": "light"
     },
     "output_type": "display_data"
    }
   ],
   "source": [
    "daily_orders.plot.bar(figsize=(20,10), color='red')"
   ]
  },
  {
   "cell_type": "code",
   "execution_count": 174,
   "id": "8443af27",
   "metadata": {},
   "outputs": [
    {
     "data": {
      "text/plain": [
       "<AxesSubplot:xlabel='Order Date', ylabel='Total Charged'>"
      ]
     },
     "execution_count": 174,
     "metadata": {},
     "output_type": "execute_result"
    },
    {
     "data": {
      "image/png": "[encoded data removed]",
      "text/plain": [
       "<Figure size 432x288 with 1 Axes>"
      ]
     },
     "metadata": {
      "needs_background": "light"
     },
     "output_type": "display_data"
    }
   ],
   "source": [
    "df.plot(kind='scatter', x = 'Order Date', y = 'Total Charged')\n",
    "# scatter plot of all the orders"
   ]
  },
  {
   "cell_type": "code",
   "execution_count": 175,
   "id": "f3603bed",
   "metadata": {},
   "outputs": [
    {
     "name": "stderr",
     "output_type": "stream",
     "text": [
      "/opt/conda/lib/python3.9/site-packages/seaborn/_decorators.py:36: FutureWarning: Pass the following variable as a keyword arg: x. From version 0.12, the only valid positional argument will be `data`, and passing other arguments without an explicit keyword will result in an error or misinterpretation.\n",
      "  warnings.warn(\n"
     ]
    },
    {
     "data": {
      "image/png": "[encoded data removed]",
      "text/plain": [
       "<Figure size 432x288 with 1 Axes>"
      ]
     },
     "metadata": {
      "needs_background": "light"
     },
     "output_type": "display_data"
    }
   ],
   "source": [
    "import seaborn as sns\n",
    "sns.countplot(df['Order Date'],label = '# of Orders')\n",
    "plt.show()\n",
    "# the maximum numebr of order placed in one single day is 3"
   ]
  },
  {
   "cell_type": "code",
   "execution_count": 176,
   "id": "a62eef78",
   "metadata": {},
   "outputs": [
    {
     "data": {
      "text/plain": [
       "array(['China UnionPay - 3136', 'MasterCard - 2329', 'Visa - 7575'],\n",
       "      dtype=object)"
      ]
     },
     "execution_count": 176,
     "metadata": {},
     "output_type": "execute_result"
    }
   ],
   "source": [
    "df['Payment Instrument Type'].unique()\n",
    "# What payment methods did I use in 2022?"
   ]
  },
  {
   "cell_type": "code",
   "execution_count": 177,
   "id": "ecf73b60",
   "metadata": {},
   "outputs": [
    {
     "name": "stdout",
     "output_type": "stream",
     "text": [
      "Payment Instrument Type\n",
      "China UnionPay - 3136    34\n",
      "MasterCard - 2329         2\n",
      "Visa - 7575              17\n",
      "dtype: int64\n"
     ]
    },
    {
     "data": {
      "text/plain": [
       "(array([34.,  0.,  0.,  0.,  0.,  2.,  0.,  0.,  0., 17.]),\n",
       " array([0. , 0.2, 0.4, 0.6, 0.8, 1. , 1.2, 1.4, 1.6, 1.8, 2. ]),\n",
       " <BarContainer object of 10 artists>)"
      ]
     },
     "execution_count": 177,
     "metadata": {},
     "output_type": "execute_result"
    },
    {
     "data": {
      "image/png": "[encoded data removed]",
      "text/plain": [
       "<Figure size 432x288 with 1 Axes>"
      ]
     },
     "metadata": {
      "needs_background": "light"
     },
     "output_type": "display_data"
    }
   ],
   "source": [
    "print(df.groupby('Payment Instrument Type').size())\n",
    "plt.hist(df['Payment Instrument Type'])\n",
    "# I used the China UnionPay for 34 times, Visa for 17 times\n",
    "# and MasterCard only twice\n",
    "\n",
    "# Using histogram to plot the frequencies of using the different cards"
   ]
  },
  {
   "cell_type": "code",
   "execution_count": 178,
   "id": "1e3fe67f",
   "metadata": {},
   "outputs": [],
   "source": [
    "df['YearMonth'] = pd.to_datetime(df['Order Date']).apply(lambda x: '{year}-{month}'.format(year=x.year, month=x.month))\n",
    "\n",
    "monthly = df.groupby('YearMonth')['Total Charged'].sum()"
   ]
  },
  {
   "cell_type": "code",
   "execution_count": 179,
   "id": "869cc14d",
   "metadata": {},
   "outputs": [
    {
     "name": "stdout",
     "output_type": "stream",
     "text": [
      "YearMonth\n",
      "2022-1     370.27\n",
      "2022-10     42.39\n",
      "2022-2     196.72\n",
      "2022-3     189.83\n",
      "2022-4     110.61\n",
      "2022-5     520.36\n",
      "2022-6      73.33\n",
      "2022-7      59.92\n",
      "2022-8     309.76\n",
      "2022-9     107.08\n",
      "Name: Total Charged, dtype: float64\n"
     ]
    }
   ],
   "source": [
    "print(monthly)"
   ]
  },
  {
   "cell_type": "code",
   "execution_count": 180,
   "id": "c59be247",
   "metadata": {},
   "outputs": [
    {
     "data": {
      "image/png": "[encoded data removed]",
      "text/plain": [
       "<Figure size 432x288 with 1 Axes>"
      ]
     },
     "metadata": {},
     "output_type": "display_data"
    }
   ],
   "source": [
    "mylabels = ['Jan','Oct','Feb','Mar','Apr','May','Jun','Jul','Aug','Sep']\n",
    "plt.pie(monthly, labels = mylabels)\n",
    "plt.show()\n",
    "# Clearly, I made the most consumption in May the the least in October"
   ]
  },
  {
   "cell_type": "code",
   "execution_count": 181,
   "id": "fcb0caf8",
   "metadata": {},
   "outputs": [
    {
     "data": {
      "text/plain": [
       "Text(0.5, 1.0, 'Tax Charged')"
      ]
     },
     "execution_count": 181,
     "metadata": {},
     "output_type": "execute_result"
    },
    {
     "data": {
      "image/png": "[encoded data removed]",
      "text/plain": [
       "<Figure size 432x288 with 2 Axes>"
      ]
     },
     "metadata": {
      "needs_background": "light"
     },
     "output_type": "display_data"
    }
   ],
   "source": [
    "import matplotlib.pyplot as plt\n",
    "import numpy as np\n",
    "\n",
    "# plot 1\n",
    "x = df['YearMonth']\n",
    "y = df['Total Charged']\n",
    "\n",
    "plt.subplot(1,2,1)\n",
    "plt.plot(x,y)\n",
    "plt.title('Total Charged')\n",
    "\n",
    "# plot 2\n",
    "x = df['YearMonth']\n",
    "y = df['Tax Charged']\n",
    "\n",
    "plt.subplot(1,2,2)\n",
    "plt.plot(x,y)\n",
    "plt.title('Tax Charged')"
   ]
  },
  {
   "cell_type": "code",
   "execution_count": null,
   "id": "4206e6ed",
   "metadata": {},
   "outputs": [],
   "source": []
  }
 ],
 "metadata": {
  "kernelspec": {
   "display_name": "Python 3 (ipykernel)",
   "language": "python",
   "name": "python3"
  },
  "language_info": {
   "codemirror_mode": {
    "name": "ipython",
    "version": 3
   },
   "file_extension": ".py",
   "mimetype": "text/x-python",
   "name": "python",
   "nbconvert_exporter": "python",
   "pygments_lexer": "ipython3",
   "version": "3.9.6"
  }
 },
 "nbformat": 4,
 "nbformat_minor": 5
}
